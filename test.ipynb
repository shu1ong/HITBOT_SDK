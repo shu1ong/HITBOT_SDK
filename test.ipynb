{
 "cells": [
  {
   "cell_type": "code",
   "execution_count": 1,
   "metadata": {},
   "outputs": [],
   "source": [
    "import time\n",
    "from zefg60150_sdk import ZEFG60150Tool\n",
    "import modbus_tk.defines as cst"
   ]
  },
  {
   "cell_type": "code",
   "execution_count": 2,
   "metadata": {},
   "outputs": [],
   "source": [
    "gripper = ZEFG60150Tool()"
   ]
  },
  {
   "cell_type": "code",
   "execution_count": 3,
   "metadata": {},
   "outputs": [
    {
     "data": {
      "text/plain": [
       "['/dev/ttyS0', '/dev/ttyUSB1']"
      ]
     },
     "execution_count": 3,
     "metadata": {},
     "output_type": "execute_result"
    }
   ],
   "source": [
    "com_list = gripper.searchCom()\n",
    "com_list"
   ]
  },
  {
   "cell_type": "code",
   "execution_count": 4,
   "metadata": {},
   "outputs": [
    {
     "name": "stdout",
     "output_type": "stream",
     "text": [
      "串口连接成功\n"
     ]
    }
   ],
   "source": [
    "com_port = com_list[1]  # 使用第一个可用串口\n",
    "result = gripper.serialOperation(com_port, 115200)\n",
    "if result != 1:\n",
    "    print(\"串口连接失败，程序终止\")\n",
    "else:\n",
    "    print(\"串口连接成功\")"
   ]
  },
  {
   "cell_type": "code",
   "execution_count": 5,
   "metadata": {},
   "outputs": [],
   "source": [
    "slave_id = 1  # 默认站号为1"
   ]
  },
  {
   "cell_type": "code",
   "execution_count": 6,
   "metadata": {},
   "outputs": [
    {
     "data": {
      "text/plain": [
       "(2, 2)"
      ]
     },
     "execution_count": 6,
     "metadata": {},
     "output_type": "execute_result"
    }
   ],
   "source": [
    "gripper.setPosition(slave_id,20)"
   ]
  },
  {
   "cell_type": "code",
   "execution_count": 7,
   "metadata": {},
   "outputs": [
    {
     "name": "stdout",
     "output_type": "stream",
     "text": [
      "电流值为： 0.040963854640722275\n"
     ]
    }
   ],
   "source": [
    "current = gripper.getCurrent(slave_id)\n",
    "if type(current)==str:\n",
    "    print(\"未获取到电流值，检查通电\")\n",
    "else:\n",
    "    print(\"电流值为：\", current)"
   ]
  }
 ],
 "metadata": {
  "kernelspec": {
   "display_name": "umi",
   "language": "python",
   "name": "python3"
  },
  "language_info": {
   "codemirror_mode": {
    "name": "ipython",
    "version": 3
   },
   "file_extension": ".py",
   "mimetype": "text/x-python",
   "name": "python",
   "nbconvert_exporter": "python",
   "pygments_lexer": "ipython3",
   "version": "3.10.14"
  }
 },
 "nbformat": 4,
 "nbformat_minor": 2
}
